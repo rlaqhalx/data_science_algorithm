{
 "cells": [
  {
   "cell_type": "markdown",
   "metadata": {},
   "source": [
    "### Python has four inbuilt data structures as follows:<br>\n",
    "    1. Lists\n",
    "    2. Dictionary\n",
    "    3. Tuple\n",
    "    4. Set \n",
    "\n",
    "For each of these data structures use the Iris data set and provide the following:"
   ]
  },
  {
   "cell_type": "markdown",
   "metadata": {},
   "source": [
    "# Lists"
   ]
  },
  {
   "cell_type": "code",
   "execution_count": 2,
   "metadata": {},
   "outputs": [
    {
     "name": "stdout",
     "output_type": "stream",
     "text": [
      "   sepal_length  sepal_width  petal_length  petal_width species\n",
      "0           5.1          3.5           1.4          0.2  setosa\n",
      "1           4.9          3.0           1.4          0.2  setosa\n",
      "2           4.7          3.2           1.3          0.2  setosa\n",
      "3           4.6          3.1           1.5          0.2  setosa\n",
      "4           5.0          3.6           1.4          0.2  setosa\n"
     ]
    }
   ],
   "source": [
    "## import libraries\n",
    "import pandas as pd\n",
    "import numpy as np\n",
    "\n",
    "## import iris dataset\n",
    "df = pd.read_csv('iris.csv')\n",
    "\n",
    "# Display the first few rows of the dataset to understand its structure\n",
    "print(df.head())"
   ]
  },
  {
   "cell_type": "code",
   "execution_count": 3,
   "metadata": {},
   "outputs": [
    {
     "name": "stdout",
     "output_type": "stream",
     "text": [
      "[5.1, 3.5, 1.4, 0.2, 'setosa']\n",
      "[[5.1, 3.5, 1.4, 0.2, 'setosa'], [4.9, 3.0, 1.4, 0.2, 'setosa']]\n"
     ]
    }
   ],
   "source": [
    "## Type code here for the problem ##\n",
    "# Define\n",
    "observation_list = []\n",
    "# First observation from the dataset\n",
    "observation_1 = [5.1, 3.5, 1.4, 0.2, 'setosa']\n",
    "observation_list.append(observation_1)\n",
    "\n",
    "# Output the list\n",
    "print(observation_1)\n",
    "\n",
    "# Second observation from the dataset\n",
    "observation_2 = [4.9, 3.0, 1.4, 0.2, 'setosa']\n",
    "\n",
    "# Add the second observation to the list\n",
    "observation_list.append(observation_2)\n",
    "\n",
    "# Output the updated list\n",
    "print(observation_list)"
   ]
  },
  {
   "cell_type": "markdown",
   "metadata": {},
   "source": [
    "# Dictionary\n"
   ]
  },
  {
   "cell_type": "code",
   "execution_count": 4,
   "metadata": {},
   "outputs": [
    {
     "name": "stdout",
     "output_type": "stream",
     "text": [
      "{'Setosa': [], 'Versicolor': [], 'Virginica': []}\n",
      "{'Setosa': [[5.1, 3.5, 1.4, 0.2, 'setosa'], [4.9, 3.0, 1.4, 0.2, 'setosa']], 'Versicolor': [[7.0, 3.2, 4.7, 1.4, 'versicolor'], [6.4, 3.2, 4.5, 1.5, 'versicolor']], 'Virginica': [[6.3, 3.3, 6.0, 2.5, 'virginica'], [5.8, 2.7, 5.1, 1.9, 'virginica']]}\n",
      "{'Setosa': [[5.1, 3.5, 1.4, 0.2, 'setosa'], [4.9, 3.0, 1.4, 0.2, 'setosa'], [4.7, 3.2, 1.3, 0.2, 'setosa']], 'Versicolor': [[7.0, 3.2, 4.7, 1.4, 'versicolor'], [6.4, 3.2, 4.5, 1.5, 'versicolor'], [6.9, 3.1, 4.9, 1.5, 'versicolor']], 'Virginica': [[6.3, 3.3, 6.0, 2.5, 'virginica'], [5.8, 2.7, 5.1, 1.9, 'virginica'], [7.1, 3.0, 5.9, 2.1, 'virginica']]}\n"
     ]
    }
   ],
   "source": [
    "## Type code here for the problem ##\n",
    "# Create an empty dictionary with classes as keys\n",
    "iris_classes = {\n",
    "    'Setosa': [],\n",
    "    'Versicolor': [],\n",
    "    'Virginica': []\n",
    "}\n",
    "\n",
    "# Output the dictionary\n",
    "print(iris_classes)\n",
    "\n",
    "# Adding observations for Setosa class\n",
    "setosa_observations = df[df['species'] == 'setosa'].head(2).values.tolist()\n",
    "iris_classes['Setosa'].extend(setosa_observations)\n",
    "\n",
    "# Adding observations for Versicolor class\n",
    "versicolor_observations = df[df['species'] == 'versicolor'].head(2).values.tolist()\n",
    "iris_classes['Versicolor'].extend(versicolor_observations)\n",
    "\n",
    "# Adding observations for Virginica class\n",
    "virginica_observations = df[df['species'] == 'virginica'].head(2).values.tolist()\n",
    "iris_classes['Virginica'].extend(virginica_observations)\n",
    "\n",
    "print(iris_classes)\n",
    "\n",
    "# Find the third observation with 'setosa', 'versicolor', and 'virginica'\n",
    "setosa_obs_3 = df[df['species'] == 'setosa'].iloc[2].tolist()\n",
    "versicolor_obs_3 = df[df['species'] == 'versicolor'].iloc[2].tolist()\n",
    "virginica_obs_3 = df[df['species'] == 'virginica'].iloc[2].tolist()\n",
    "\n",
    "# Add the third observation to the each class\n",
    "iris_classes['Setosa'].append(setosa_obs_3)\n",
    "iris_classes['Versicolor'].append(versicolor_obs_3)\n",
    "iris_classes['Virginica'].append(virginica_obs_3)\n",
    "\n",
    "print(iris_classes)"
   ]
  },
  {
   "cell_type": "markdown",
   "metadata": {},
   "source": [
    "# Tuple"
   ]
  },
  {
   "cell_type": "code",
   "execution_count": 5,
   "metadata": {},
   "outputs": [
    {
     "name": "stdout",
     "output_type": "stream",
     "text": [
      "initial tuple:\n",
      "(('setosa', [[5.1, 3.5], [4.9, 3.0]]), ('versicolor', [[7.0, 3.2], [6.4, 3.2]]), ('virginica', [[6.3, 3.3], [5.8, 2.7]]))\n",
      "\n",
      "after adding third observation:\n",
      "(('setosa', [[5.1, 3.5], [4.9, 3.0], [4.7, 3.2]]), ('versicolor', [[7.0, 3.2], [6.4, 3.2], [6.9, 3.1]]), ('virginica', [[6.3, 3.3], [5.8, 2.7], [7.1, 3.0]]))\n",
      "\n",
      "after adding third feature:\n",
      "(('setosa', [[5.1, 3.5, 1.4], [4.9, 3.0, 1.4], [4.7, 3.2, 1.3]]), ('versicolor', [[7.0, 3.2, 4.7], [6.4, 3.2, 4.5], [6.9, 3.1, 4.9]]), ('virginica', [[6.3, 3.3, 6.0], [5.8, 2.7, 5.1], [7.1, 3.0, 5.9]]))\n"
     ]
    }
   ],
   "source": [
    "## Type code for the problem here ##\n",
    "\n",
    "grouped = df.groupby('species')\n",
    "\n",
    "iris_classes_list = []\n",
    "additional_data_dict = {}\n",
    "third_feature_dict = {}\n",
    "\n",
    "# Iterate through groups and store them as tuples\n",
    "for name, group in grouped:\n",
    "    observations = group.iloc[:2, :-3].values.tolist() # first two features + class\n",
    "    iris_classes_list.append((name, observations))\n",
    "    \n",
    "    # third observation \n",
    "    additional_data = group.iloc[2:3, :-3].values.tolist() \n",
    "    additional_data_dict[name] = additional_data\n",
    "    \n",
    "    # third feature\n",
    "    third_feature = group.iloc[:3, 2:3].values.tolist()\n",
    "    third_feature_dict[name] = third_feature\n",
    "\n",
    "    \n",
    "# Convert the list to a tuple\n",
    "iris_classes_tuple = tuple(iris_classes_list)\n",
    "print(\"initial tuple:\")\n",
    "print(iris_classes_tuple)\n",
    "print() \n",
    "\n",
    "for i, (class_name, data) in enumerate(iris_classes_tuple):\n",
    "    additional_data = additional_data_dict[class_name]\n",
    "    iris_classes_tuple[i][1].extend(additional_data)\n",
    "\n",
    "print(\"after adding third observation:\")\n",
    "print(iris_classes_tuple)\n",
    "print() \n",
    "\n",
    "for i, (class_name, observations) in enumerate(iris_classes_tuple):\n",
    "    iris_classes_tuple[i][1][0].extend(third_feature_dict[class_name][0])  \n",
    "    iris_classes_tuple[i][1][1].extend(third_feature_dict[class_name][1])  \n",
    "    iris_classes_tuple[i][1][2].extend(third_feature_dict[class_name][2])\n",
    "\n",
    "print(\"after adding third feature:\")\n",
    "print(iris_classes_tuple)"
   ]
  },
  {
   "cell_type": "markdown",
   "metadata": {},
   "source": [
    "# Set\n",
    "\n",
    "    Show the output of the following operations with a print statement\n",
    "        * Difference\n",
    "        * Intersection\n",
    "        * Union"
   ]
  },
  {
   "cell_type": "code",
   "execution_count": 6,
   "metadata": {},
   "outputs": [
    {
     "name": "stdout",
     "output_type": "stream",
     "text": [
      "{0.2, 1.4, 3.5, 5.1}\n",
      "{0.2, 1.4, 3.5, 4.9, 5.1, 3.0}\n",
      "Setosa Difference: {3.5, 5.1}\n",
      "Setosa Intersection: {0.2, 1.4}\n",
      "Setosa Union: {0.2, 1.4, 3.5, 4.9, 5.1, 3.0}\n"
     ]
    }
   ],
   "source": [
    "## Type the code for the problem here ##\n",
    "\n",
    "setosa_observation_set = set()\n",
    "setosa_observation_1 = set(df[df['species'] == 'setosa'].iloc[0, :-1])\n",
    "setosa_observation_set.update(setosa_observation_1)\n",
    "print(setosa_observation_set)\n",
    "\n",
    "# added the second observation to the set\n",
    "setosa_observation_2 = df[df['species'] == 'setosa'].iloc[1, :-1].values\n",
    "setosa_observation_set.update(setosa_observation_2)\n",
    "print(setosa_observation_set)\n",
    "\n",
    "# Difference between observation_1 & observation_2\n",
    "setosa_difference = setosa_observation_1.difference(setosa_observation_2)\n",
    "\n",
    "# Intersection \"\"\n",
    "setosa_intersection = setosa_observation_1.intersection(setosa_observation_2)\n",
    "\n",
    "# Union \"\"\n",
    "setosa_union = setosa_observation_1.union(setosa_observation_2)\n",
    "\n",
    "# Show the results\n",
    "print(\"Setosa Difference:\", setosa_difference)\n",
    "print(\"Setosa Intersection:\", setosa_intersection)\n",
    "print(\"Setosa Union:\", setosa_union)\n"
   ]
  }
 ],
 "metadata": {
  "interpreter": {
   "hash": "aee8b7b246df8f9039afb4144a1f6fd8d2ca17a180786b69acc140d282b71a49"
  },
  "kernelspec": {
   "display_name": "Python 3 (ipykernel)",
   "language": "python",
   "name": "python3"
  },
  "language_info": {
   "codemirror_mode": {
    "name": "ipython",
    "version": 3
   },
   "file_extension": ".py",
   "mimetype": "text/x-python",
   "name": "python",
   "nbconvert_exporter": "python",
   "pygments_lexer": "ipython3",
   "version": "3.9.13"
  }
 },
 "nbformat": 4,
 "nbformat_minor": 2
}
